{
 "cells": [
  {
   "cell_type": "code",
   "execution_count": 1,
   "metadata": {},
   "outputs": [],
   "source": [
    "import pandas as pd\n",
    "import numpy as np\n",
    "import matplotlib.pyplot as plt"
   ]
  },
  {
   "cell_type": "code",
   "execution_count": 11,
   "metadata": {},
   "outputs": [],
   "source": [
    "cars_data = pd.read_csv(\"Toyota.csv\", index_col = 0, na_values = ['??','????'])"
   ]
  },
  {
   "cell_type": "code",
   "execution_count": 12,
   "metadata": {},
   "outputs": [
    {
     "name": "stdout",
     "output_type": "stream",
     "text": [
      "<class 'pandas.core.frame.DataFrame'>\n",
      "Int64Index: 1436 entries, 0 to 1435\n",
      "Data columns (total 10 columns):\n",
      "Price        1436 non-null int64\n",
      "Age          1336 non-null float64\n",
      "KM           1421 non-null float64\n",
      "FuelType     1336 non-null object\n",
      "HP           1430 non-null float64\n",
      "MetColor     1286 non-null float64\n",
      "Automatic    1436 non-null int64\n",
      "CC           1436 non-null int64\n",
      "Doors        1436 non-null object\n",
      "Weight       1436 non-null int64\n",
      "dtypes: float64(4), int64(4), object(2)\n",
      "memory usage: 123.4+ KB\n"
     ]
    }
   ],
   "source": [
    "cars_data.info()"
   ]
  },
  {
   "cell_type": "code",
   "execution_count": 3,
   "metadata": {},
   "outputs": [
    {
     "data": {
      "text/html": [
       "<div>\n",
       "<style scoped>\n",
       "    .dataframe tbody tr th:only-of-type {\n",
       "        vertical-align: middle;\n",
       "    }\n",
       "\n",
       "    .dataframe tbody tr th {\n",
       "        vertical-align: top;\n",
       "    }\n",
       "\n",
       "    .dataframe thead th {\n",
       "        text-align: right;\n",
       "    }\n",
       "</style>\n",
       "<table border=\"1\" class=\"dataframe\">\n",
       "  <thead>\n",
       "    <tr style=\"text-align: right;\">\n",
       "      <th></th>\n",
       "      <th>Price</th>\n",
       "      <th>Age</th>\n",
       "      <th>KM</th>\n",
       "      <th>FuelType</th>\n",
       "      <th>HP</th>\n",
       "      <th>MetColor</th>\n",
       "      <th>Automatic</th>\n",
       "      <th>CC</th>\n",
       "      <th>Doors</th>\n",
       "      <th>Weight</th>\n",
       "    </tr>\n",
       "  </thead>\n",
       "  <tbody>\n",
       "    <tr>\n",
       "      <td>0</td>\n",
       "      <td>13500</td>\n",
       "      <td>23.0</td>\n",
       "      <td>46986.0</td>\n",
       "      <td>Diesel</td>\n",
       "      <td>90.0</td>\n",
       "      <td>1.0</td>\n",
       "      <td>0</td>\n",
       "      <td>2000</td>\n",
       "      <td>three</td>\n",
       "      <td>1165</td>\n",
       "    </tr>\n",
       "    <tr>\n",
       "      <td>1</td>\n",
       "      <td>13750</td>\n",
       "      <td>23.0</td>\n",
       "      <td>72937.0</td>\n",
       "      <td>Diesel</td>\n",
       "      <td>90.0</td>\n",
       "      <td>1.0</td>\n",
       "      <td>0</td>\n",
       "      <td>2000</td>\n",
       "      <td>3</td>\n",
       "      <td>1165</td>\n",
       "    </tr>\n",
       "    <tr>\n",
       "      <td>3</td>\n",
       "      <td>14950</td>\n",
       "      <td>26.0</td>\n",
       "      <td>48000.0</td>\n",
       "      <td>Diesel</td>\n",
       "      <td>90.0</td>\n",
       "      <td>0.0</td>\n",
       "      <td>0</td>\n",
       "      <td>2000</td>\n",
       "      <td>3</td>\n",
       "      <td>1165</td>\n",
       "    </tr>\n",
       "    <tr>\n",
       "      <td>4</td>\n",
       "      <td>13750</td>\n",
       "      <td>30.0</td>\n",
       "      <td>38500.0</td>\n",
       "      <td>Diesel</td>\n",
       "      <td>90.0</td>\n",
       "      <td>0.0</td>\n",
       "      <td>0</td>\n",
       "      <td>2000</td>\n",
       "      <td>3</td>\n",
       "      <td>1170</td>\n",
       "    </tr>\n",
       "    <tr>\n",
       "      <td>5</td>\n",
       "      <td>12950</td>\n",
       "      <td>32.0</td>\n",
       "      <td>61000.0</td>\n",
       "      <td>Diesel</td>\n",
       "      <td>90.0</td>\n",
       "      <td>0.0</td>\n",
       "      <td>0</td>\n",
       "      <td>2000</td>\n",
       "      <td>3</td>\n",
       "      <td>1170</td>\n",
       "    </tr>\n",
       "    <tr>\n",
       "      <td>...</td>\n",
       "      <td>...</td>\n",
       "      <td>...</td>\n",
       "      <td>...</td>\n",
       "      <td>...</td>\n",
       "      <td>...</td>\n",
       "      <td>...</td>\n",
       "      <td>...</td>\n",
       "      <td>...</td>\n",
       "      <td>...</td>\n",
       "      <td>...</td>\n",
       "    </tr>\n",
       "    <tr>\n",
       "      <td>1423</td>\n",
       "      <td>7950</td>\n",
       "      <td>80.0</td>\n",
       "      <td>35821.0</td>\n",
       "      <td>Petrol</td>\n",
       "      <td>86.0</td>\n",
       "      <td>0.0</td>\n",
       "      <td>1</td>\n",
       "      <td>1300</td>\n",
       "      <td>3</td>\n",
       "      <td>1015</td>\n",
       "    </tr>\n",
       "    <tr>\n",
       "      <td>1424</td>\n",
       "      <td>7750</td>\n",
       "      <td>73.0</td>\n",
       "      <td>34717.0</td>\n",
       "      <td>Petrol</td>\n",
       "      <td>86.0</td>\n",
       "      <td>0.0</td>\n",
       "      <td>0</td>\n",
       "      <td>1300</td>\n",
       "      <td>3</td>\n",
       "      <td>1015</td>\n",
       "    </tr>\n",
       "    <tr>\n",
       "      <td>1429</td>\n",
       "      <td>8950</td>\n",
       "      <td>78.0</td>\n",
       "      <td>24000.0</td>\n",
       "      <td>Petrol</td>\n",
       "      <td>86.0</td>\n",
       "      <td>1.0</td>\n",
       "      <td>1</td>\n",
       "      <td>1300</td>\n",
       "      <td>5</td>\n",
       "      <td>1065</td>\n",
       "    </tr>\n",
       "    <tr>\n",
       "      <td>1430</td>\n",
       "      <td>8450</td>\n",
       "      <td>80.0</td>\n",
       "      <td>23000.0</td>\n",
       "      <td>Petrol</td>\n",
       "      <td>86.0</td>\n",
       "      <td>0.0</td>\n",
       "      <td>0</td>\n",
       "      <td>1300</td>\n",
       "      <td>3</td>\n",
       "      <td>1015</td>\n",
       "    </tr>\n",
       "    <tr>\n",
       "      <td>1435</td>\n",
       "      <td>6950</td>\n",
       "      <td>76.0</td>\n",
       "      <td>1.0</td>\n",
       "      <td>Petrol</td>\n",
       "      <td>110.0</td>\n",
       "      <td>0.0</td>\n",
       "      <td>0</td>\n",
       "      <td>1600</td>\n",
       "      <td>5</td>\n",
       "      <td>1114</td>\n",
       "    </tr>\n",
       "  </tbody>\n",
       "</table>\n",
       "<p>1096 rows × 10 columns</p>\n",
       "</div>"
      ],
      "text/plain": [
       "      Price   Age       KM FuelType     HP  MetColor  Automatic    CC  Doors  \\\n",
       "0     13500  23.0  46986.0   Diesel   90.0       1.0          0  2000  three   \n",
       "1     13750  23.0  72937.0   Diesel   90.0       1.0          0  2000      3   \n",
       "3     14950  26.0  48000.0   Diesel   90.0       0.0          0  2000      3   \n",
       "4     13750  30.0  38500.0   Diesel   90.0       0.0          0  2000      3   \n",
       "5     12950  32.0  61000.0   Diesel   90.0       0.0          0  2000      3   \n",
       "...     ...   ...      ...      ...    ...       ...        ...   ...    ...   \n",
       "1423   7950  80.0  35821.0   Petrol   86.0       0.0          1  1300      3   \n",
       "1424   7750  73.0  34717.0   Petrol   86.0       0.0          0  1300      3   \n",
       "1429   8950  78.0  24000.0   Petrol   86.0       1.0          1  1300      5   \n",
       "1430   8450  80.0  23000.0   Petrol   86.0       0.0          0  1300      3   \n",
       "1435   6950  76.0      1.0   Petrol  110.0       0.0          0  1600      5   \n",
       "\n",
       "      Weight  \n",
       "0       1165  \n",
       "1       1165  \n",
       "3       1165  \n",
       "4       1170  \n",
       "5       1170  \n",
       "...      ...  \n",
       "1423    1015  \n",
       "1424    1015  \n",
       "1429    1065  \n",
       "1430    1015  \n",
       "1435    1114  \n",
       "\n",
       "[1096 rows x 10 columns]"
      ]
     },
     "execution_count": 3,
     "metadata": {},
     "output_type": "execute_result"
    }
   ],
   "source": [
    "cars_data.dropna(axis=0,inplace=True)\n",
    "cars_data"
   ]
  },
  {
   "cell_type": "markdown",
   "metadata": {},
   "source": [
    "## Scatter plot"
   ]
  },
  {
   "cell_type": "code",
   "execution_count": 4,
   "metadata": {},
   "outputs": [
    {
     "data": {
      "image/png": "[encoded data removed]",
      "text/plain": [
       "<Figure size 432x288 with 1 Axes>"
      ]
     },
     "metadata": {
      "needs_background": "light"
     },
     "output_type": "display_data"
    }
   ],
   "source": [
    "plt.scatter(cars_data['Age'],cars_data['Price'],c = 'red')\n",
    "plt.title('Scatter plot of Price vs Age')\n",
    "plt.xlabel('Age(month)')\n",
    "plt.ylabel('Price(Euros)')\n",
    "plt.show()"
   ]
  },
  {
   "cell_type": "markdown",
   "metadata": {},
   "source": [
    "## Histogram"
   ]
  },
  {
   "cell_type": "code",
   "execution_count": 13,
   "metadata": {},
   "outputs": [
    {
     "data": {
      "text/plain": [
       "(array([ 92., 239., 331., 222., 111.,  51.,  25.,  13.,  10.,   2.]),\n",
       " array([1.000000e+00, 2.430090e+04, 4.860080e+04, 7.290070e+04,\n",
       "        9.720060e+04, 1.215005e+05, 1.458004e+05, 1.701003e+05,\n",
       "        1.944002e+05, 2.187001e+05, 2.430000e+05]),\n",
       " <a list of 10 Patch objects>)"
      ]
     },
     "execution_count": 13,
     "metadata": {},
     "output_type": "execute_result"
    },
    {
     "data": {
      "image/png": "[encoded data removed]",
      "text/plain": [
       "<Figure size 432x288 with 1 Axes>"
      ]
     },
     "metadata": {
      "needs_background": "light"
     },
     "output_type": "display_data"
    }
   ],
   "source": [
    "plt.hist(cars_data['KM'])"
   ]
  },
  {
   "cell_type": "code",
   "execution_count": 5,
   "metadata": {},
   "outputs": [
    {
     "data": {
      "image/png": "[encoded data removed]",
      "text/plain": [
       "<Figure size 432x288 with 1 Axes>"
      ]
     },
     "metadata": {
      "needs_background": "light"
     },
     "output_type": "display_data"
    }
   ],
   "source": [
    "plt.hist(cars_data['KM'],color='green',edgecolor='white',bins=30)\n",
    "plt.title('Histogram of KM')\n",
    "plt.xlabel('Kilometers')\n",
    "plt.ylabel('Frequency')\n",
    "plt.show()"
   ]
  },
  {
   "cell_type": "markdown",
   "metadata": {},
   "source": [
    "## Bar Plot "
   ]
  },
  {
   "cell_type": "code",
   "execution_count": 8,
   "metadata": {},
   "outputs": [],
   "source": [
    "counts = [979, 120, 2]\n",
    "fueltype = ('Petrol', 'Diesel', 'CNG')\n",
    "index = np.arange(len(fueltype))"
   ]
  },
  {
   "cell_type": "code",
   "execution_count": 9,
   "metadata": {},
   "outputs": [
    {
     "data": {
      "text/plain": [
       "<function matplotlib.pyplot.show(*args, **kw)>"
      ]
     },
     "execution_count": 9,
     "metadata": {},
     "output_type": "execute_result"
    },
    {
     "data": {
      "image/png": "[encoded data removed]",
      "text/plain": [
       "<Figure size 432x288 with 1 Axes>"
      ]
     },
     "metadata": {
      "needs_background": "light"
     },
     "output_type": "display_data"
    }
   ],
   "source": [
    "plt.bar(index,counts,color=['red','blue','cyan'])\n",
    "plt.title('Bar plot of fuel type')\n",
    "plt.xlabel('Fuel Types')\n",
    "plt.ylabel('Frequency')\n",
    "plt.xticks(index, fueltype, rotation = 60)\n",
    "plt.show"
   ]
  },
  {
   "cell_type": "code",
   "execution_count": null,
   "metadata": {},
   "outputs": [],
   "source": []
  }
 ],
 "metadata": {
  "kernelspec": {
   "display_name": "Python 3",
   "language": "python",
   "name": "python3"
  },
  "language_info": {
   "codemirror_mode": {
    "name": "ipython",
    "version": 3
   },
   "file_extension": ".py",
   "mimetype": "text/x-python",
   "name": "python",
   "nbconvert_exporter": "python",
   "pygments_lexer": "ipython3",
   "version": "3.7.4"
  }
 },
 "nbformat": 4,
 "nbformat_minor": 2
}
