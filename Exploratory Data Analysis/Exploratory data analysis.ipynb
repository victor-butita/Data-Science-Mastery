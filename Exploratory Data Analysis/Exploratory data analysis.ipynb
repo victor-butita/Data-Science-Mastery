{
 "cells": [
  {
   "cell_type": "code",
   "execution_count": 1,
   "metadata": {},
   "outputs": [],
   "source": [
    "import os\n",
    "import pandas as pd\n",
    "import numpy as np\n",
    "os.chdir(r'C:\\Users\\Pc\\Desktop\\Data Science Notes\\IRIS')"
   ]
  },
  {
   "cell_type": "code",
   "execution_count": 2,
   "metadata": {},
   "outputs": [],
   "source": [
    "cars_data = pd.read_csv('Toyota.csv',index_col=0,na_values=['??','????'])"
   ]
  },
  {
   "cell_type": "code",
   "execution_count": 5,
   "metadata": {},
   "outputs": [],
   "source": [
    "cars_data2 = cars_data.copy(deep=True) #deep specifies that new DF will not refer to previous DF, it's optional by default it True"
   ]
  },
  {
   "cell_type": "markdown",
   "metadata": {},
   "source": [
    "# Frequency Table"
   ]
  },
  {
   "cell_type": "code",
   "execution_count": 11,
   "metadata": {},
   "outputs": [
    {
     "data": {
      "text/html": [
       "<div>\n",
       "<style scoped>\n",
       "    .dataframe tbody tr th:only-of-type {\n",
       "        vertical-align: middle;\n",
       "    }\n",
       "\n",
       "    .dataframe tbody tr th {\n",
       "        vertical-align: top;\n",
       "    }\n",
       "\n",
       "    .dataframe thead th {\n",
       "        text-align: right;\n",
       "    }\n",
       "</style>\n",
       "<table border=\"1\" class=\"dataframe\">\n",
       "  <thead>\n",
       "    <tr style=\"text-align: right;\">\n",
       "      <th>col_0</th>\n",
       "      <th>count</th>\n",
       "    </tr>\n",
       "    <tr>\n",
       "      <th>FuelType</th>\n",
       "      <th></th>\n",
       "    </tr>\n",
       "  </thead>\n",
       "  <tbody>\n",
       "    <tr>\n",
       "      <td>CNG</td>\n",
       "      <td>15</td>\n",
       "    </tr>\n",
       "    <tr>\n",
       "      <td>Diesel</td>\n",
       "      <td>144</td>\n",
       "    </tr>\n",
       "    <tr>\n",
       "      <td>Petrol</td>\n",
       "      <td>1177</td>\n",
       "    </tr>\n",
       "  </tbody>\n",
       "</table>\n",
       "</div>"
      ],
      "text/plain": [
       "col_0     count\n",
       "FuelType       \n",
       "CNG          15\n",
       "Diesel      144\n",
       "Petrol     1177"
      ]
     },
     "execution_count": 11,
     "metadata": {},
     "output_type": "execute_result"
    }
   ],
   "source": [
    "pd.crosstab(index=cars_data2['FuelType'], columns = 'count', dropna=True)"
   ]
  },
  {
   "cell_type": "markdown",
   "metadata": {},
   "source": [
    "## Two way table"
   ]
  },
  {
   "cell_type": "code",
   "execution_count": 10,
   "metadata": {},
   "outputs": [
    {
     "data": {
      "text/html": [
       "<div>\n",
       "<style scoped>\n",
       "    .dataframe tbody tr th:only-of-type {\n",
       "        vertical-align: middle;\n",
       "    }\n",
       "\n",
       "    .dataframe tbody tr th {\n",
       "        vertical-align: top;\n",
       "    }\n",
       "\n",
       "    .dataframe thead th {\n",
       "        text-align: right;\n",
       "    }\n",
       "</style>\n",
       "<table border=\"1\" class=\"dataframe\">\n",
       "  <thead>\n",
       "    <tr style=\"text-align: right;\">\n",
       "      <th>FuelType</th>\n",
       "      <th>CNG</th>\n",
       "      <th>Diesel</th>\n",
       "      <th>Petrol</th>\n",
       "    </tr>\n",
       "    <tr>\n",
       "      <th>Automatic</th>\n",
       "      <th></th>\n",
       "      <th></th>\n",
       "      <th></th>\n",
       "    </tr>\n",
       "  </thead>\n",
       "  <tbody>\n",
       "    <tr>\n",
       "      <td>0</td>\n",
       "      <td>15</td>\n",
       "      <td>144</td>\n",
       "      <td>1104</td>\n",
       "    </tr>\n",
       "    <tr>\n",
       "      <td>1</td>\n",
       "      <td>0</td>\n",
       "      <td>0</td>\n",
       "      <td>73</td>\n",
       "    </tr>\n",
       "  </tbody>\n",
       "</table>\n",
       "</div>"
      ],
      "text/plain": [
       "FuelType   CNG  Diesel  Petrol\n",
       "Automatic                     \n",
       "0           15     144    1104\n",
       "1            0       0      73"
      ]
     },
     "execution_count": 10,
     "metadata": {},
     "output_type": "execute_result"
    }
   ],
   "source": [
    "pd.crosstab(index=cars_data2['Automatic'], columns = cars_data2['FuelType'], dropna=True)"
   ]
  },
  {
   "cell_type": "markdown",
   "metadata": {},
   "source": [
    "## Two way table - Joint Probability"
   ]
  },
  {
   "cell_type": "code",
   "execution_count": 9,
   "metadata": {},
   "outputs": [
    {
     "data": {
      "text/html": [
       "<div>\n",
       "<style scoped>\n",
       "    .dataframe tbody tr th:only-of-type {\n",
       "        vertical-align: middle;\n",
       "    }\n",
       "\n",
       "    .dataframe tbody tr th {\n",
       "        vertical-align: top;\n",
       "    }\n",
       "\n",
       "    .dataframe thead th {\n",
       "        text-align: right;\n",
       "    }\n",
       "</style>\n",
       "<table border=\"1\" class=\"dataframe\">\n",
       "  <thead>\n",
       "    <tr style=\"text-align: right;\">\n",
       "      <th>FuelType</th>\n",
       "      <th>CNG</th>\n",
       "      <th>Diesel</th>\n",
       "      <th>Petrol</th>\n",
       "    </tr>\n",
       "    <tr>\n",
       "      <th>Automatic</th>\n",
       "      <th></th>\n",
       "      <th></th>\n",
       "      <th></th>\n",
       "    </tr>\n",
       "  </thead>\n",
       "  <tbody>\n",
       "    <tr>\n",
       "      <td>0</td>\n",
       "      <td>0.011228</td>\n",
       "      <td>0.107784</td>\n",
       "      <td>0.826347</td>\n",
       "    </tr>\n",
       "    <tr>\n",
       "      <td>1</td>\n",
       "      <td>0.000000</td>\n",
       "      <td>0.000000</td>\n",
       "      <td>0.054641</td>\n",
       "    </tr>\n",
       "  </tbody>\n",
       "</table>\n",
       "</div>"
      ],
      "text/plain": [
       "FuelType        CNG    Diesel    Petrol\n",
       "Automatic                              \n",
       "0          0.011228  0.107784  0.826347\n",
       "1          0.000000  0.000000  0.054641"
      ]
     },
     "execution_count": 9,
     "metadata": {},
     "output_type": "execute_result"
    }
   ],
   "source": [
    "pd.crosstab(index=cars_data2['Automatic'], columns = cars_data2['FuelType'], normalize=True, dropna=True)"
   ]
  },
  {
   "cell_type": "markdown",
   "metadata": {},
   "source": [
    "## Marginal Probability"
   ]
  },
  {
   "cell_type": "code",
   "execution_count": 12,
   "metadata": {},
   "outputs": [
    {
     "data": {
      "text/html": [
       "<div>\n",
       "<style scoped>\n",
       "    .dataframe tbody tr th:only-of-type {\n",
       "        vertical-align: middle;\n",
       "    }\n",
       "\n",
       "    .dataframe tbody tr th {\n",
       "        vertical-align: top;\n",
       "    }\n",
       "\n",
       "    .dataframe thead th {\n",
       "        text-align: right;\n",
       "    }\n",
       "</style>\n",
       "<table border=\"1\" class=\"dataframe\">\n",
       "  <thead>\n",
       "    <tr style=\"text-align: right;\">\n",
       "      <th>FuelType</th>\n",
       "      <th>CNG</th>\n",
       "      <th>Diesel</th>\n",
       "      <th>Petrol</th>\n",
       "      <th>All</th>\n",
       "    </tr>\n",
       "    <tr>\n",
       "      <th>Automatic</th>\n",
       "      <th></th>\n",
       "      <th></th>\n",
       "      <th></th>\n",
       "      <th></th>\n",
       "    </tr>\n",
       "  </thead>\n",
       "  <tbody>\n",
       "    <tr>\n",
       "      <td>0</td>\n",
       "      <td>0.011228</td>\n",
       "      <td>0.107784</td>\n",
       "      <td>0.826347</td>\n",
       "      <td>0.945359</td>\n",
       "    </tr>\n",
       "    <tr>\n",
       "      <td>1</td>\n",
       "      <td>0.000000</td>\n",
       "      <td>0.000000</td>\n",
       "      <td>0.054641</td>\n",
       "      <td>0.054641</td>\n",
       "    </tr>\n",
       "    <tr>\n",
       "      <td>All</td>\n",
       "      <td>0.011228</td>\n",
       "      <td>0.107784</td>\n",
       "      <td>0.880988</td>\n",
       "      <td>1.000000</td>\n",
       "    </tr>\n",
       "  </tbody>\n",
       "</table>\n",
       "</div>"
      ],
      "text/plain": [
       "FuelType        CNG    Diesel    Petrol       All\n",
       "Automatic                                        \n",
       "0          0.011228  0.107784  0.826347  0.945359\n",
       "1          0.000000  0.000000  0.054641  0.054641\n",
       "All        0.011228  0.107784  0.880988  1.000000"
      ]
     },
     "execution_count": 12,
     "metadata": {},
     "output_type": "execute_result"
    }
   ],
   "source": [
    "pd.crosstab(index=cars_data2['Automatic'], columns = cars_data2['FuelType'], margins=True, normalize=True, dropna=True)"
   ]
  },
  {
   "cell_type": "markdown",
   "metadata": {},
   "source": [
    "## Conditional Probability"
   ]
  },
  {
   "cell_type": "code",
   "execution_count": 14,
   "metadata": {},
   "outputs": [
    {
     "data": {
      "text/html": [
       "<div>\n",
       "<style scoped>\n",
       "    .dataframe tbody tr th:only-of-type {\n",
       "        vertical-align: middle;\n",
       "    }\n",
       "\n",
       "    .dataframe tbody tr th {\n",
       "        vertical-align: top;\n",
       "    }\n",
       "\n",
       "    .dataframe thead th {\n",
       "        text-align: right;\n",
       "    }\n",
       "</style>\n",
       "<table border=\"1\" class=\"dataframe\">\n",
       "  <thead>\n",
       "    <tr style=\"text-align: right;\">\n",
       "      <th>FuelType</th>\n",
       "      <th>CNG</th>\n",
       "      <th>Diesel</th>\n",
       "      <th>Petrol</th>\n",
       "      <th>All</th>\n",
       "    </tr>\n",
       "    <tr>\n",
       "      <th>Automatic</th>\n",
       "      <th></th>\n",
       "      <th></th>\n",
       "      <th></th>\n",
       "      <th></th>\n",
       "    </tr>\n",
       "  </thead>\n",
       "  <tbody>\n",
       "    <tr>\n",
       "      <td>0</td>\n",
       "      <td>1.0</td>\n",
       "      <td>1.0</td>\n",
       "      <td>0.937978</td>\n",
       "      <td>0.945359</td>\n",
       "    </tr>\n",
       "    <tr>\n",
       "      <td>1</td>\n",
       "      <td>0.0</td>\n",
       "      <td>0.0</td>\n",
       "      <td>0.062022</td>\n",
       "      <td>0.054641</td>\n",
       "    </tr>\n",
       "  </tbody>\n",
       "</table>\n",
       "</div>"
      ],
      "text/plain": [
       "FuelType   CNG  Diesel    Petrol       All\n",
       "Automatic                                 \n",
       "0          1.0     1.0  0.937978  0.945359\n",
       "1          0.0     0.0  0.062022  0.054641"
      ]
     },
     "execution_count": 14,
     "metadata": {},
     "output_type": "execute_result"
    }
   ],
   "source": [
    "#normalize='index'\n",
    "pd.crosstab(index=cars_data2['Automatic'], columns = cars_data2['FuelType'], margins=True, normalize='index', dropna=True)"
   ]
  },
  {
   "cell_type": "code",
   "execution_count": 15,
   "metadata": {},
   "outputs": [
    {
     "data": {
      "text/html": [
       "<div>\n",
       "<style scoped>\n",
       "    .dataframe tbody tr th:only-of-type {\n",
       "        vertical-align: middle;\n",
       "    }\n",
       "\n",
       "    .dataframe tbody tr th {\n",
       "        vertical-align: top;\n",
       "    }\n",
       "\n",
       "    .dataframe thead th {\n",
       "        text-align: right;\n",
       "    }\n",
       "</style>\n",
       "<table border=\"1\" class=\"dataframe\">\n",
       "  <thead>\n",
       "    <tr style=\"text-align: right;\">\n",
       "      <th>FuelType</th>\n",
       "      <th>CNG</th>\n",
       "      <th>Diesel</th>\n",
       "      <th>Petrol</th>\n",
       "      <th>All</th>\n",
       "    </tr>\n",
       "    <tr>\n",
       "      <th>Automatic</th>\n",
       "      <th></th>\n",
       "      <th></th>\n",
       "      <th></th>\n",
       "      <th></th>\n",
       "    </tr>\n",
       "  </thead>\n",
       "  <tbody>\n",
       "    <tr>\n",
       "      <td>0</td>\n",
       "      <td>1.0</td>\n",
       "      <td>1.0</td>\n",
       "      <td>0.937978</td>\n",
       "      <td>0.945359</td>\n",
       "    </tr>\n",
       "    <tr>\n",
       "      <td>1</td>\n",
       "      <td>0.0</td>\n",
       "      <td>0.0</td>\n",
       "      <td>0.062022</td>\n",
       "      <td>0.054641</td>\n",
       "    </tr>\n",
       "  </tbody>\n",
       "</table>\n",
       "</div>"
      ],
      "text/plain": [
       "FuelType   CNG  Diesel    Petrol       All\n",
       "Automatic                                 \n",
       "0          1.0     1.0  0.937978  0.945359\n",
       "1          0.0     0.0  0.062022  0.054641"
      ]
     },
     "execution_count": 15,
     "metadata": {},
     "output_type": "execute_result"
    }
   ],
   "source": [
    "#normalize = 'columns'\n",
    "pd.crosstab(index=cars_data2['Automatic'], columns = cars_data2['FuelType'], margins=True, normalize='columns', dropna=True)"
   ]
  },
  {
   "cell_type": "markdown",
   "metadata": {},
   "source": [
    "## Correlation"
   ]
  },
  {
   "cell_type": "code",
   "execution_count": 16,
   "metadata": {},
   "outputs": [],
   "source": [
    "num_data = cars_data2.select_dtypes(exclude=[object])"
   ]
  },
  {
   "cell_type": "code",
   "execution_count": 17,
   "metadata": {},
   "outputs": [
    {
     "data": {
      "text/plain": [
       "(1436, 8)"
      ]
     },
     "execution_count": 17,
     "metadata": {},
     "output_type": "execute_result"
    }
   ],
   "source": [
    "num_data.shape"
   ]
  },
  {
   "cell_type": "code",
   "execution_count": 23,
   "metadata": {},
   "outputs": [
    {
     "data": {
      "text/html": [
       "<div>\n",
       "<style scoped>\n",
       "    .dataframe tbody tr th:only-of-type {\n",
       "        vertical-align: middle;\n",
       "    }\n",
       "\n",
       "    .dataframe tbody tr th {\n",
       "        vertical-align: top;\n",
       "    }\n",
       "\n",
       "    .dataframe thead th {\n",
       "        text-align: right;\n",
       "    }\n",
       "</style>\n",
       "<table border=\"1\" class=\"dataframe\">\n",
       "  <thead>\n",
       "    <tr style=\"text-align: right;\">\n",
       "      <th></th>\n",
       "      <th>Price</th>\n",
       "      <th>Age</th>\n",
       "      <th>KM</th>\n",
       "      <th>HP</th>\n",
       "      <th>MetColor</th>\n",
       "      <th>Automatic</th>\n",
       "      <th>CC</th>\n",
       "      <th>Weight</th>\n",
       "    </tr>\n",
       "  </thead>\n",
       "  <tbody>\n",
       "    <tr>\n",
       "      <td>Price</td>\n",
       "      <td>1.000000</td>\n",
       "      <td>-0.878407</td>\n",
       "      <td>-0.574720</td>\n",
       "      <td>0.309902</td>\n",
       "      <td>0.112041</td>\n",
       "      <td>0.033081</td>\n",
       "      <td>0.165067</td>\n",
       "      <td>0.581198</td>\n",
       "    </tr>\n",
       "    <tr>\n",
       "      <td>Age</td>\n",
       "      <td>-0.878407</td>\n",
       "      <td>1.000000</td>\n",
       "      <td>0.512735</td>\n",
       "      <td>-0.157904</td>\n",
       "      <td>-0.099659</td>\n",
       "      <td>0.032573</td>\n",
       "      <td>-0.120706</td>\n",
       "      <td>-0.464299</td>\n",
       "    </tr>\n",
       "    <tr>\n",
       "      <td>KM</td>\n",
       "      <td>-0.574720</td>\n",
       "      <td>0.512735</td>\n",
       "      <td>1.000000</td>\n",
       "      <td>-0.335285</td>\n",
       "      <td>-0.093825</td>\n",
       "      <td>-0.081248</td>\n",
       "      <td>0.299993</td>\n",
       "      <td>-0.026271</td>\n",
       "    </tr>\n",
       "    <tr>\n",
       "      <td>HP</td>\n",
       "      <td>0.309902</td>\n",
       "      <td>-0.157904</td>\n",
       "      <td>-0.335285</td>\n",
       "      <td>1.000000</td>\n",
       "      <td>0.064749</td>\n",
       "      <td>0.013755</td>\n",
       "      <td>0.053758</td>\n",
       "      <td>0.086737</td>\n",
       "    </tr>\n",
       "    <tr>\n",
       "      <td>MetColor</td>\n",
       "      <td>0.112041</td>\n",
       "      <td>-0.099659</td>\n",
       "      <td>-0.093825</td>\n",
       "      <td>0.064749</td>\n",
       "      <td>1.000000</td>\n",
       "      <td>-0.013973</td>\n",
       "      <td>0.029189</td>\n",
       "      <td>0.057142</td>\n",
       "    </tr>\n",
       "    <tr>\n",
       "      <td>Automatic</td>\n",
       "      <td>0.033081</td>\n",
       "      <td>0.032573</td>\n",
       "      <td>-0.081248</td>\n",
       "      <td>0.013755</td>\n",
       "      <td>-0.013973</td>\n",
       "      <td>1.000000</td>\n",
       "      <td>-0.069321</td>\n",
       "      <td>0.057249</td>\n",
       "    </tr>\n",
       "    <tr>\n",
       "      <td>CC</td>\n",
       "      <td>0.165067</td>\n",
       "      <td>-0.120706</td>\n",
       "      <td>0.299993</td>\n",
       "      <td>0.053758</td>\n",
       "      <td>0.029189</td>\n",
       "      <td>-0.069321</td>\n",
       "      <td>1.000000</td>\n",
       "      <td>0.651450</td>\n",
       "    </tr>\n",
       "    <tr>\n",
       "      <td>Weight</td>\n",
       "      <td>0.581198</td>\n",
       "      <td>-0.464299</td>\n",
       "      <td>-0.026271</td>\n",
       "      <td>0.086737</td>\n",
       "      <td>0.057142</td>\n",
       "      <td>0.057249</td>\n",
       "      <td>0.651450</td>\n",
       "      <td>1.000000</td>\n",
       "    </tr>\n",
       "  </tbody>\n",
       "</table>\n",
       "</div>"
      ],
      "text/plain": [
       "              Price       Age        KM        HP  MetColor  Automatic  \\\n",
       "Price      1.000000 -0.878407 -0.574720  0.309902  0.112041   0.033081   \n",
       "Age       -0.878407  1.000000  0.512735 -0.157904 -0.099659   0.032573   \n",
       "KM        -0.574720  0.512735  1.000000 -0.335285 -0.093825  -0.081248   \n",
       "HP         0.309902 -0.157904 -0.335285  1.000000  0.064749   0.013755   \n",
       "MetColor   0.112041 -0.099659 -0.093825  0.064749  1.000000  -0.013973   \n",
       "Automatic  0.033081  0.032573 -0.081248  0.013755 -0.013973   1.000000   \n",
       "CC         0.165067 -0.120706  0.299993  0.053758  0.029189  -0.069321   \n",
       "Weight     0.581198 -0.464299 -0.026271  0.086737  0.057142   0.057249   \n",
       "\n",
       "                 CC    Weight  \n",
       "Price      0.165067  0.581198  \n",
       "Age       -0.120706 -0.464299  \n",
       "KM         0.299993 -0.026271  \n",
       "HP         0.053758  0.086737  \n",
       "MetColor   0.029189  0.057142  \n",
       "Automatic -0.069321  0.057249  \n",
       "CC         1.000000  0.651450  \n",
       "Weight     0.651450  1.000000  "
      ]
     },
     "execution_count": 23,
     "metadata": {},
     "output_type": "execute_result"
    }
   ],
   "source": [
    "corr_matrix = num_data.corr()\n",
    "corr_matrix"
   ]
  }
 ],
 "metadata": {
  "kernelspec": {
   "display_name": "Python 3",
   "language": "python",
   "name": "python3"
  },
  "language_info": {
   "codemirror_mode": {
    "name": "ipython",
    "version": 3
   },
   "file_extension": ".py",
   "mimetype": "text/x-python",
   "name": "python",
   "nbconvert_exporter": "python",
   "pygments_lexer": "ipython3",
   "version": "3.7.4"
  }
 },
 "nbformat": 4,
 "nbformat_minor": 2
}
